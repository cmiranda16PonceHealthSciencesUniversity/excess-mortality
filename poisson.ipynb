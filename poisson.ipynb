{
 "cells": [
  {
   "cell_type": "markdown",
   "metadata": {},
   "source": [
    "# Poisson underdispersion"
   ]
  },
  {
   "cell_type": "code",
   "execution_count": 1,
   "metadata": {},
   "outputs": [],
   "source": [
    "%matplotlib notebook\n",
    "\n",
    "import numpy as np\n",
    "import pandas as pd\n",
    "import pylab as plt\n",
    "import seaborn as sns\n",
    "import matplotlib"
   ]
  },
  {
   "cell_type": "code",
   "execution_count": 2,
   "metadata": {},
   "outputs": [],
   "source": [
    "def poissonsamplevar(mu, n, perc=5, nrep=100):\n",
    "    v = np.zeros(nrep)\n",
    "    for i in range(nrep):\n",
    "        x = np.random.poisson(mu, size=n)\n",
    "        v[i] = np.var(x)\n",
    "    return np.percentile(v, perc)"
   ]
  },
  {
   "cell_type": "code",
   "execution_count": 3,
   "metadata": {},
   "outputs": [],
   "source": [
    "df = pd.read_csv('https://covid.ourworldindata.org/data/owid-covid-data.csv?raw=true')"
   ]
  },
  {
   "cell_type": "code",
   "execution_count": 4,
   "metadata": {},
   "outputs": [
    {
     "name": "stdout",
     "output_type": "stream",
     "text": [
      "== DEATHS ==\n",
      "Albania             ...........*.....**..**....*...*.\n",
      "Algeria             ......***..*.*.**.....*.*.....*.*\n",
      "Azerbaijan          ..........***....****......**..*.\n",
      "Belarus             .************.***....*.********\n",
      "Egypt               ..........*........*.*****.*..***\n",
      "El Salvador         ...........*..**...****..**.**.\n",
      "Kuwait              ............*.*......*.*.......\n",
      "Moldova             ........................****....\n",
      "Saudi Arabia        ..*.**..........*.**.*********.*\n",
      "Serbia              ...*...**....*..**.**.....**..**\n",
      "Syria               ...............***.******..****\n",
      "Turkey              ..........******.****.**....*.*.\n",
      "United Arab Emirates....*....**.*...................\n",
      "Uzbekistan          ..........*****..*.............\n",
      "Venezuela           .........****.*.****.******..**\n",
      "\n",
      "== CASES ==\n",
      "Tajikistan          .....*.***.*.*********.*....\n",
      "\n"
     ]
    }
   ],
   "source": [
    "countries = np.unique(df['location'])\n",
    "win = 10\n",
    "cutoff = 3\n",
    "nrep = 1000\n",
    "\n",
    "print('== DEATHS ==')\n",
    "for country in countries:\n",
    "    t = df[df['location']==country]['new_deaths'].values\n",
    "    t = t[t>=0]\n",
    "    \n",
    "    if t.size > win*10:\n",
    "        l = np.floor(t.size/win).astype(int)\n",
    "        d = np.zeros(l)\n",
    "        for i in range(l):\n",
    "            tt = t[i*win:(i+1)*win]\n",
    "            if np.var(tt) < poissonsamplevar(np.mean(tt), win, nrep=nrep):\n",
    "                d[i] = 1\n",
    "        if np.sum(d) > cutoff:\n",
    "            print(f'{country[:20]:20}', end='')\n",
    "            for i in range(l):\n",
    "                if d[i]==1:\n",
    "                    print('*', end='')\n",
    "                else:\n",
    "                    print('.', end='')\n",
    "            print('')\n",
    "\n",
    "print('')\n",
    "print('== CASES ==')\n",
    "for country in countries:\n",
    "    t = df[df['location']==country]['new_cases'].values\n",
    "    t = t[t>=0]\n",
    "    \n",
    "    if t.size > win*10:\n",
    "        l = np.floor(t.size/win).astype(int)\n",
    "        d = np.zeros(l)\n",
    "        for i in range(l):\n",
    "            tt = t[i*win:(i+1)*win]\n",
    "            if np.var(tt) < poissonsamplevar(np.mean(tt), win, nrep=nrep):\n",
    "                d[i] = 1\n",
    "        if np.sum(d) > cutoff:\n",
    "            print(f'{country[:20]:20}', end='')\n",
    "            for i in range(l):\n",
    "                if d[i]==1:\n",
    "                    print('*', end='')\n",
    "                else:\n",
    "                    print('.', end='')\n",
    "            print('')"
   ]
  },
  {
   "cell_type": "markdown",
   "metadata": {},
   "source": [
    "Every dot corresponds to 10 consecutive days. Asterisks show when the variance is lower than the Poisson variance ($p<0.05$) with the observed average, i.e. show statistically significant underdispersion. All countries in the Johns Hopkins dataset were tested, but only countries with more than 3 asterisks are shown here. Daily numbers of COVID-19 deaths and cases were both analyzed."
   ]
  },
  {
   "cell_type": "code",
   "execution_count": 5,
   "metadata": {},
   "outputs": [
    {
     "name": "stdout",
     "output_type": "stream",
     "text": [
      "Алтайский край      .......................*..*.*.*\n",
      "Астраханская область..............**....*..******..\n",
      "Владимирская область........*.**.*................*\n",
      "Волгоградская област................*......********\n",
      "Иркутская область   .....................*....*.*.*\n",
      "Кабардино-Балкарская.................*.....**.....*\n",
      "Кемеровская область .......................****..*.\n",
      "Кировская область   ..............*..**.*******.*.*\n",
      "Краснодарский край  .......*....**.....***.********\n",
      "Красноярский край   .............*.*...***..*.....*\n",
      "Липецкая область    ....................**.*......*\n",
      "Москва              ............*****......******..\n",
      "Московская область  ..................********.....\n",
      "Мурманская область  ...........*.*.........*....***\n",
      "Нижегородская област......*...**.*.*..*.***********\n",
      "Новосибирская област.......**.*.**.*.**************\n",
      "Омская область      ................*.......*.****.\n",
      "Пензенская область  ...........*.**.*....*..****...\n",
      "Пермский край       ..............*..******..**.***\n",
      "Приморский край     .....................**..******\n",
      "Республика Бурятия  ......................***.**.**\n",
      "Республика Крым     ........................*******\n",
      "Республика Чувашия  ...........................****\n",
      "Саратовская область ...................**....***...\n",
      "Свердловская область......*...............*********\n",
      "Смоленская область  ..........**...........**......\n",
      "Ставропольский край .............**...*.**..***..*.\n",
      "Тамбовская область  ..........................*****\n",
      "Тверская область    ..........***...*..............\n",
      "Тульская область    ........*****..***.............\n",
      "Удмуртская Республик..........................***.*\n",
      "Ханты-Мансийский АО ..........*...**..****.**.....*\n",
      "Челябинская область ........................*..*.**\n"
     ]
    }
   ],
   "source": [
    "# https://docs.google.com/spreadsheets/d/1nCxvNcuZGNswsf97mliLikmUIsOrOGZtL-VI7xfN-Zw\n",
    "\n",
    "df = pd.read_csv('russian-data/StopCoronaRF - died.csv')\n",
    "df = df.values\n",
    "\n",
    "win = 10\n",
    "cutoff = 3\n",
    "nrep = 1000\n",
    "\n",
    "for row in range(df.shape[0]):\n",
    "    t = df[row,1:]\n",
    "    t = np.diff(t[::-1])\n",
    "    \n",
    "    if t.size > win*10:\n",
    "        l = np.floor(t.size/win).astype(int)\n",
    "        d = np.zeros(l)\n",
    "        for i in range(l):\n",
    "            tt = t[i*win:(i+1)*win]\n",
    "            if np.var(tt) < poissonsamplevar(np.mean(tt), win, nrep=nrep):\n",
    "                d[i] = 1\n",
    "        if np.sum(d) > cutoff:\n",
    "            print(f'{df[row,0][:20]:20}', end='')\n",
    "            for i in range(l):\n",
    "                if d[i]==1:\n",
    "                    print('*', end='')\n",
    "                else:\n",
    "                    print('.', end='')\n",
    "            print('')"
   ]
  }
 ],
 "metadata": {
  "kernelspec": {
   "display_name": "Python 3",
   "language": "python",
   "name": "python3"
  },
  "language_info": {
   "codemirror_mode": {
    "name": "ipython",
    "version": 3
   },
   "file_extension": ".py",
   "mimetype": "text/x-python",
   "name": "python",
   "nbconvert_exporter": "python",
   "pygments_lexer": "ipython3",
   "version": "3.7.9"
  }
 },
 "nbformat": 4,
 "nbformat_minor": 4
}
